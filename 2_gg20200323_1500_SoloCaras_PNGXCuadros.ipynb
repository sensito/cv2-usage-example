{
 "cells": [
  {
   "cell_type": "markdown",
   "metadata": {},
   "source": [
    "# Título: Lectura de video y extracción cuadros generando un archivo PNG por cada cuadro<BR>\n",
    "\n",
    "---\n",
    "<br />\n",
    "<div class=\"alert alert-info\" role=\"alert\">\n",
    "<p><strong>Lectura de video y extracción cuadros</strong></p>\n",
    "<p><strong>Autor</strong>: Daniel Ivan Medina Barreras</p>\n",
    "<p><strong>Fecha</strong>: 20200730</p>\n",
    "<p></p>\n",
    "<p><strong>Referencia</strong>: gg20200323_1500_SoloCaras_PNGXCuadros.ipynb</p>\n",
    "<p> <strong>Descripción</strong> :  Se realiza el analisis de cuadros de un video para saber que imagenes tienen mejores rostros</p>\n",
    "\n",
    "\n",
    "\n",
    "</div>"
   ]
  },
  {
   "cell_type": "markdown",
   "metadata": {},
   "source": [
    "### **Imutils**\n",
    "---\n",
    "**Instalación**\n",
    "\n",
    ">``pip install imutils``\n",
    "\n",
    "**Descripción**\n",
    "\n",
    "Contiene una serie de funciones convenientes para hacer funciones básicas de procesamiento de imágenes, como traducción, rotación, cambio de tamaño, esqueletización, visualización de imágenes Matplotlib, clasificación de contornos, detección de bordes y mucho más fácil con OpenCV y Python 3\n",
    "\n",
    "**Link**\n",
    "\n",
    "[imutils](https://pypi.org/project/imutils/)"
   ]
  },
  {
   "cell_type": "code",
   "execution_count": 1,
   "metadata": {},
   "outputs": [],
   "source": [
    "import imutils"
   ]
  },
  {
   "cell_type": "markdown",
   "metadata": {},
   "source": [
    "### **Matplotlib** \n",
    "---\n",
    "\n",
    "**Instalación**\n",
    "\n",
    ">``conda install -c conda-forge -y matplotlib``\n",
    "\n",
    "**Descripción**\n",
    "\n",
    "Matplotlib es una biblioteca para la generación de gráficos a partir de datos contenidos en listas o arreglos en el lenguaje de programación Python y su extensión matemática NumPy. \n",
    "\n",
    "Por medio del comando mágico **%matplotlib inline** se indica que los despliegues gráficos de la biblioteca matplotlib se despliegan en el cuaderno Jupyter directamente.\n",
    "\n",
    "**Link**\n",
    "\n",
    "[Matplotlib](https://matplotlib.org/)"
   ]
  },
  {
   "cell_type": "code",
   "execution_count": 2,
   "metadata": {},
   "outputs": [],
   "source": [
    "import matplotlib.pyplot as plt"
   ]
  },
  {
   "cell_type": "code",
   "execution_count": 3,
   "metadata": {},
   "outputs": [],
   "source": [
    "%matplotlib inline"
   ]
  },
  {
   "cell_type": "markdown",
   "metadata": {},
   "source": [
    "### **Numpy**\n",
    "---\n",
    "**Instalación**\n",
    "\n",
    ">``conda install -c anaconda -y numpy``\n",
    "\n",
    "**Descripción**\n",
    "\n",
    "Numpy es una biblioteca para el lenguaje de programación Python que (entre otras cosas) brinda soporte para grandes matrices multidimensionales.\n",
    "\n",
    "¿Por qué es eso importante? Usando NumPy, podemos expresar imágenes como matrices multidimensionales.\n",
    "\n",
    "Representar imágenes como matrices NumPy no solo es computacional y eficiente en el uso de recursos, sino que muchas otras bibliotecas de procesamiento de imágenes y aprendizaje automático también usan representaciones de matrices NumPy. Además, al usar las funciones matemáticas de alto nivel incorporadas de NumPy, podemos realizar rápidamente análisis numéricos en una imagen.\n",
    "\n",
    "**Link**\n",
    "\n",
    "[Numpy](https://numpy.org/)"
   ]
  },
  {
   "cell_type": "code",
   "execution_count": 4,
   "metadata": {},
   "outputs": [],
   "source": [
    "import numpy as np"
   ]
  },
  {
   "cell_type": "markdown",
   "metadata": {},
   "source": [
    "### **cv2, OpenCV**\n",
    "---\n",
    "**Instalación**\n",
    "\n",
    ">``pip install opencv-python``\n",
    "\n",
    "**Descripción**\n",
    "\n",
    "OpenCV (Open Source Computer Vision Library) es una biblioteca de software de visión artificial y aprendizaje automático de código abierto. OpenCV se creó para proporcionar una infraestructura común para aplicaciones de visión por computadora y para acelerar el uso de la percepción de máquinas en los productos comerciales. \n",
    "\n",
    "La biblioteca tiene más de 2500 algoritmos optimizados, que incluyen un conjunto integral de algoritmos de visión por computadora y aprendizaje automático tanto clásicos como de última generación. Estos algoritmos se pueden usar para detectar y reconocer caras, identificar objetos, clasificar acciones humanas en videos, rastrear movimientos de cámara, rastrear objetos en movimiento, extraer modelos 3D de objetos, producir nubes de puntos 3D desde cámaras estéreo, unir imágenes para producir una alta resolución imagen de una escena completa, encuentre imágenes similares de una base de datos de imágenes, elimine los ojos rojos de las imágenes tomadas con flash, siga los movimientos de los ojos, reconozca los paisajes y establezca marcadores para superponerlos con realidad aumentada, etc.\n",
    "\n",
    "**Link**\n",
    "\n",
    "[Open CV](https://opencv.org/about/)"
   ]
  },
  {
   "cell_type": "code",
   "execution_count": 5,
   "metadata": {},
   "outputs": [],
   "source": [
    "import cv2"
   ]
  },
  {
   "cell_type": "markdown",
   "metadata": {},
   "source": [
    "### **dlib**\n",
    "---\n",
    "**Instalación de dlib**\n",
    "\n",
    ">``pip install dlib``\n",
    "\n",
    "**Descripción**\n",
    "\n",
    "Dlib es un moderno kit de herramientas de C ++ que contiene algoritmos de aprendizaje automático y herramientas para crear software complejo en C ++ para resolver problemas del mundo real. Se utiliza tanto en la industria como en la academia en una amplia gama de dominios, que incluyen robótica, dispositivos integrados, teléfonos móviles y grandes entornos informáticos de alto rendimiento. Las licencias de código abierto de Dlib le permiten usarlo en cualquier aplicación, de forma gratuita.\n",
    "\n",
    "**Requiere intalación de cmake**\n",
    "\n",
    "**Instalación de cmake**\n",
    "\n",
    "**pip install cmake**\n",
    "\n",
    "**Link dlib**\n",
    "\n",
    "[dlib](http://dlib.net/)"
   ]
  },
  {
   "cell_type": "code",
   "execution_count": 6,
   "metadata": {},
   "outputs": [],
   "source": [
    "import dlib"
   ]
  },
  {
   "cell_type": "markdown",
   "metadata": {},
   "source": [
    "### **glob - Coincidencia de patrón de nombre de archivo**\n",
    "---\n",
    "**Instalación**\n",
    "\n",
    ">``pip install glob2``\n",
    "\n",
    "**Descripción**\n",
    "\n",
    "Es útil en cualquier situación donde un programa necesita buscar una lista de archivos en el sistema de archivos con nombres que coinciden con un patrón. Para crear una lista de nombres de archivos que tengan una cierta extensión, prefijo, o cualquier cadena común en el medio, usa glob en lugar de escribir código personalizado para escanear los contenidos del directorio.\n",
    "\n",
    "**Link**\n",
    "\n",
    "[glob](https://rico-schmidt.name/pymotw-3/glob/)"
   ]
  },
  {
   "cell_type": "code",
   "execution_count": 7,
   "metadata": {},
   "outputs": [],
   "source": [
    "import glob"
   ]
  },
  {
   "cell_type": "markdown",
   "metadata": {},
   "source": [
    "### Librerías estándar de Python\n",
    "---\n",
    "**Descripción**\n",
    "\n",
    "La instalación básica de Python viene con una muy completa librería de módulos para todo tipo de tareas, incluyendo acceso a ficheros y directorios, compresión de ficheros, ejecución recurrente (multihilo), email, html, xml, csv y un largo etcétera.\n",
    "\n",
    "**Link**\n",
    "\n",
    "[La biblioteca estándar de Python](https://docs.python.org/3/library/index.html)"
   ]
  },
  {
   "cell_type": "code",
   "execution_count": 8,
   "metadata": {},
   "outputs": [],
   "source": [
    "import os\n",
    "from os import path"
   ]
  },
  {
   "cell_type": "markdown",
   "metadata": {},
   "source": [
    "### shutil\n",
    "---\n",
    "**Instalación**\n",
    "\n",
    ">``pip install pytest-shutil``\n",
    "\n",
    "**Descripción**\n",
    "\n",
    "Esta biblioteca es un paquete de herramientas de gestión de entorno y shell de Unix para pruebas automatizadas.\n",
    "\n",
    "**rmtree**\n",
    "\n",
    "Elimina un árbol de directorios completo; la ruta debe apuntar a un directorio (pero no a un enlace simbólico a un directorio). Si ignore_errors es verdadero, los errores resultantes de eliminaciones fallidas serán ignorados; si es falso u omitido, dichos errores se manejan llamando a un controlador especificado por onerror o, si se omite, generan una excepción.\n",
    "\n",
    "**Link**\n"
   ]
  },
  {
   "cell_type": "code",
   "execution_count": 9,
   "metadata": {},
   "outputs": [],
   "source": [
    "from shutil import rmtree"
   ]
  },
  {
   "cell_type": "markdown",
   "metadata": {},
   "source": [
    "## Inicio\n",
    "---"
   ]
  },
  {
   "cell_type": "markdown",
   "metadata": {},
   "source": [
    "Comprobamos la ruta de nuestro proyecto"
   ]
  },
  {
   "cell_type": "code",
   "execution_count": 10,
   "metadata": {},
   "outputs": [
    {
     "name": "stdout",
     "output_type": "stream",
     "text": [
      "/home/saxsa/Documentos/face_pro_2/Proyecto\n"
     ]
    }
   ],
   "source": [
    "%%bash\n",
    "\n",
    "pwd"
   ]
  },
  {
   "cell_type": "markdown",
   "metadata": {},
   "source": [
    "- Se asigna el nombre de la carpeta donde sie guardaran los cuadros del video \n",
    "- Se asigna el nombre con el que se guardara el cuadro\n",
    "- Se asigna la extencion del cuadro, en este caso se guardara en formato png"
   ]
  },
  {
   "cell_type": "code",
   "execution_count": 11,
   "metadata": {},
   "outputs": [],
   "source": [
    "ggDirectorioDestino = './ggDepositoImagenesCaras'\n",
    "BaseNombreArchivosCuadros = ggDirectorioDestino + '/Cuadro_'\n",
    "ExtensionArchivosCuadros = '.png'"
   ]
  },
  {
   "cell_type": "markdown",
   "metadata": {},
   "source": [
    ">``glob.glob``   \n",
    "\n",
    "Nos devuelve la lista de todos los archivos **.png** que se encuentran en la carpeta **ggDepositoImagenes**"
   ]
  },
  {
   "cell_type": "code",
   "execution_count": 12,
   "metadata": {},
   "outputs": [],
   "source": [
    "ggCuadros = glob.glob(\"./ggDepositoImagenes/**\")"
   ]
  },
  {
   "cell_type": "markdown",
   "metadata": {},
   "source": [
    "Mostramos ls lista de archivos **ggCuadros**"
   ]
  },
  {
   "cell_type": "code",
   "execution_count": 13,
   "metadata": {},
   "outputs": [
    {
     "data": {
      "text/plain": [
       "['./ggDepositoImagenes/Cuadro_0.png',\n",
       " './ggDepositoImagenes/Cuadro_1.png',\n",
       " './ggDepositoImagenes/Cuadro_2.png',\n",
       " './ggDepositoImagenes/Cuadro_3.png',\n",
       " './ggDepositoImagenes/Cuadro_4.png',\n",
       " './ggDepositoImagenes/Cuadro_5.png',\n",
       " './ggDepositoImagenes/Cuadro_6.png',\n",
       " './ggDepositoImagenes/Cuadro_7.png',\n",
       " './ggDepositoImagenes/Cuadro_8.png',\n",
       " './ggDepositoImagenes/Cuadro_9.png',\n",
       " './ggDepositoImagenes/Cuadro_10.png',\n",
       " './ggDepositoImagenes/Cuadro_11.png',\n",
       " './ggDepositoImagenes/Cuadro_12.png',\n",
       " './ggDepositoImagenes/Cuadro_13.png',\n",
       " './ggDepositoImagenes/Cuadro_14.png',\n",
       " './ggDepositoImagenes/Cuadro_15.png',\n",
       " './ggDepositoImagenes/Cuadro_16.png',\n",
       " './ggDepositoImagenes/Cuadro_17.png',\n",
       " './ggDepositoImagenes/Cuadro_18.png',\n",
       " './ggDepositoImagenes/Cuadro_19.png',\n",
       " './ggDepositoImagenes/Cuadro_20.png',\n",
       " './ggDepositoImagenes/Cuadro_21.png',\n",
       " './ggDepositoImagenes/Cuadro_22.png',\n",
       " './ggDepositoImagenes/Cuadro_23.png',\n",
       " './ggDepositoImagenes/Cuadro_24.png',\n",
       " './ggDepositoImagenes/Cuadro_25.png',\n",
       " './ggDepositoImagenes/Cuadro_26.png',\n",
       " './ggDepositoImagenes/Cuadro_27.png',\n",
       " './ggDepositoImagenes/Cuadro_28.png',\n",
       " './ggDepositoImagenes/Cuadro_29.png',\n",
       " './ggDepositoImagenes/Cuadro_30.png',\n",
       " './ggDepositoImagenes/Cuadro_31.png',\n",
       " './ggDepositoImagenes/Cuadro_32.png',\n",
       " './ggDepositoImagenes/Cuadro_33.png',\n",
       " './ggDepositoImagenes/Cuadro_34.png',\n",
       " './ggDepositoImagenes/Cuadro_35.png',\n",
       " './ggDepositoImagenes/Cuadro_36.png',\n",
       " './ggDepositoImagenes/Cuadro_37.png',\n",
       " './ggDepositoImagenes/Cuadro_38.png',\n",
       " './ggDepositoImagenes/Cuadro_39.png',\n",
       " './ggDepositoImagenes/Cuadro_40.png',\n",
       " './ggDepositoImagenes/Cuadro_41.png',\n",
       " './ggDepositoImagenes/Cuadro_42.png',\n",
       " './ggDepositoImagenes/Cuadro_43.png',\n",
       " './ggDepositoImagenes/Cuadro_44.png',\n",
       " './ggDepositoImagenes/Cuadro_45.png',\n",
       " './ggDepositoImagenes/Cuadro_46.png',\n",
       " './ggDepositoImagenes/Cuadro_47.png',\n",
       " './ggDepositoImagenes/Cuadro_48.png',\n",
       " './ggDepositoImagenes/Cuadro_49.png',\n",
       " './ggDepositoImagenes/Cuadro_50.png',\n",
       " './ggDepositoImagenes/Cuadro_51.png',\n",
       " './ggDepositoImagenes/Cuadro_52.png',\n",
       " './ggDepositoImagenes/Cuadro_53.png',\n",
       " './ggDepositoImagenes/Cuadro_54.png',\n",
       " './ggDepositoImagenes/Cuadro_55.png',\n",
       " './ggDepositoImagenes/Cuadro_56.png',\n",
       " './ggDepositoImagenes/Cuadro_57.png',\n",
       " './ggDepositoImagenes/Cuadro_58.png',\n",
       " './ggDepositoImagenes/Cuadro_59.png',\n",
       " './ggDepositoImagenes/Cuadro_60.png',\n",
       " './ggDepositoImagenes/Cuadro_61.png',\n",
       " './ggDepositoImagenes/Cuadro_62.png',\n",
       " './ggDepositoImagenes/Cuadro_63.png',\n",
       " './ggDepositoImagenes/Cuadro_64.png',\n",
       " './ggDepositoImagenes/Cuadro_65.png',\n",
       " './ggDepositoImagenes/Cuadro_66.png',\n",
       " './ggDepositoImagenes/Cuadro_67.png',\n",
       " './ggDepositoImagenes/Cuadro_68.png',\n",
       " './ggDepositoImagenes/Cuadro_69.png',\n",
       " './ggDepositoImagenes/Cuadro_70.png',\n",
       " './ggDepositoImagenes/Cuadro_71.png',\n",
       " './ggDepositoImagenes/Cuadro_72.png',\n",
       " './ggDepositoImagenes/Cuadro_73.png',\n",
       " './ggDepositoImagenes/Cuadro_74.png',\n",
       " './ggDepositoImagenes/Cuadro_75.png',\n",
       " './ggDepositoImagenes/Cuadro_76.png',\n",
       " './ggDepositoImagenes/Cuadro_77.png',\n",
       " './ggDepositoImagenes/Cuadro_78.png',\n",
       " './ggDepositoImagenes/Cuadro_79.png',\n",
       " './ggDepositoImagenes/Cuadro_80.png',\n",
       " './ggDepositoImagenes/Cuadro_81.png',\n",
       " './ggDepositoImagenes/Cuadro_82.png',\n",
       " './ggDepositoImagenes/Cuadro_83.png',\n",
       " './ggDepositoImagenes/Cuadro_84.png',\n",
       " './ggDepositoImagenes/Cuadro_85.png',\n",
       " './ggDepositoImagenes/Cuadro_86.png',\n",
       " './ggDepositoImagenes/Cuadro_87.png',\n",
       " './ggDepositoImagenes/Cuadro_88.png',\n",
       " './ggDepositoImagenes/Cuadro_89.png',\n",
       " './ggDepositoImagenes/Cuadro_90.png',\n",
       " './ggDepositoImagenes/Cuadro_91.png',\n",
       " './ggDepositoImagenes/Cuadro_92.png',\n",
       " './ggDepositoImagenes/Cuadro_93.png',\n",
       " './ggDepositoImagenes/Cuadro_94.png',\n",
       " './ggDepositoImagenes/Cuadro_95.png',\n",
       " './ggDepositoImagenes/Cuadro_96.png',\n",
       " './ggDepositoImagenes/Cuadro_97.png',\n",
       " './ggDepositoImagenes/Cuadro_98.png',\n",
       " './ggDepositoImagenes/Cuadro_99.png',\n",
       " './ggDepositoImagenes/Cuadro_100.png',\n",
       " './ggDepositoImagenes/Cuadro_101.png',\n",
       " './ggDepositoImagenes/Cuadro_102.png',\n",
       " './ggDepositoImagenes/Cuadro_103.png',\n",
       " './ggDepositoImagenes/Cuadro_104.png',\n",
       " './ggDepositoImagenes/Cuadro_105.png',\n",
       " './ggDepositoImagenes/Cuadro_106.png',\n",
       " './ggDepositoImagenes/Cuadro_107.png',\n",
       " './ggDepositoImagenes/Cuadro_108.png',\n",
       " './ggDepositoImagenes/Cuadro_109.png',\n",
       " './ggDepositoImagenes/Cuadro_110.png',\n",
       " './ggDepositoImagenes/Cuadro_111.png',\n",
       " './ggDepositoImagenes/Cuadro_112.png',\n",
       " './ggDepositoImagenes/Cuadro_113.png',\n",
       " './ggDepositoImagenes/Cuadro_114.png',\n",
       " './ggDepositoImagenes/Cuadro_115.png',\n",
       " './ggDepositoImagenes/Cuadro_116.png',\n",
       " './ggDepositoImagenes/Cuadro_117.png',\n",
       " './ggDepositoImagenes/Cuadro_118.png',\n",
       " './ggDepositoImagenes/Cuadro_119.png',\n",
       " './ggDepositoImagenes/Cuadro_120.png',\n",
       " './ggDepositoImagenes/Cuadro_121.png',\n",
       " './ggDepositoImagenes/Cuadro_122.png',\n",
       " './ggDepositoImagenes/Cuadro_123.png',\n",
       " './ggDepositoImagenes/Cuadro_124.png',\n",
       " './ggDepositoImagenes/Cuadro_125.png',\n",
       " './ggDepositoImagenes/Cuadro_126.png',\n",
       " './ggDepositoImagenes/Cuadro_127.png',\n",
       " './ggDepositoImagenes/Cuadro_128.png',\n",
       " './ggDepositoImagenes/Cuadro_129.png',\n",
       " './ggDepositoImagenes/Cuadro_130.png',\n",
       " './ggDepositoImagenes/Cuadro_131.png',\n",
       " './ggDepositoImagenes/Cuadro_132.png',\n",
       " './ggDepositoImagenes/Cuadro_133.png',\n",
       " './ggDepositoImagenes/Cuadro_134.png',\n",
       " './ggDepositoImagenes/Cuadro_135.png',\n",
       " './ggDepositoImagenes/Cuadro_136.png',\n",
       " './ggDepositoImagenes/Cuadro_137.png',\n",
       " './ggDepositoImagenes/Cuadro_138.png',\n",
       " './ggDepositoImagenes/Cuadro_139.png',\n",
       " './ggDepositoImagenes/Cuadro_140.png',\n",
       " './ggDepositoImagenes/Cuadro_141.png',\n",
       " './ggDepositoImagenes/Cuadro_142.png',\n",
       " './ggDepositoImagenes/Cuadro_143.png',\n",
       " './ggDepositoImagenes/Cuadro_144.png',\n",
       " './ggDepositoImagenes/Cuadro_145.png',\n",
       " './ggDepositoImagenes/Cuadro_146.png',\n",
       " './ggDepositoImagenes/Cuadro_147.png',\n",
       " './ggDepositoImagenes/Cuadro_148.png',\n",
       " './ggDepositoImagenes/Cuadro_149.png',\n",
       " './ggDepositoImagenes/Cuadro_150.png',\n",
       " './ggDepositoImagenes/Cuadro_151.png',\n",
       " './ggDepositoImagenes/Cuadro_152.png',\n",
       " './ggDepositoImagenes/Cuadro_153.png',\n",
       " './ggDepositoImagenes/Cuadro_154.png',\n",
       " './ggDepositoImagenes/Cuadro_155.png',\n",
       " './ggDepositoImagenes/Cuadro_156.png',\n",
       " './ggDepositoImagenes/Cuadro_157.png',\n",
       " './ggDepositoImagenes/Cuadro_158.png',\n",
       " './ggDepositoImagenes/Cuadro_159.png',\n",
       " './ggDepositoImagenes/Cuadro_160.png',\n",
       " './ggDepositoImagenes/Cuadro_161.png',\n",
       " './ggDepositoImagenes/Cuadro_162.png',\n",
       " './ggDepositoImagenes/Cuadro_163.png',\n",
       " './ggDepositoImagenes/Cuadro_164.png',\n",
       " './ggDepositoImagenes/Cuadro_165.png',\n",
       " './ggDepositoImagenes/Cuadro_166.png',\n",
       " './ggDepositoImagenes/Cuadro_167.png',\n",
       " './ggDepositoImagenes/Cuadro_168.png',\n",
       " './ggDepositoImagenes/Cuadro_169.png',\n",
       " './ggDepositoImagenes/Cuadro_170.png',\n",
       " './ggDepositoImagenes/Cuadro_171.png',\n",
       " './ggDepositoImagenes/Cuadro_172.png',\n",
       " './ggDepositoImagenes/Cuadro_173.png',\n",
       " './ggDepositoImagenes/Cuadro_174.png',\n",
       " './ggDepositoImagenes/Cuadro_175.png',\n",
       " './ggDepositoImagenes/Cuadro_176.png',\n",
       " './ggDepositoImagenes/Cuadro_177.png',\n",
       " './ggDepositoImagenes/Cuadro_178.png',\n",
       " './ggDepositoImagenes/Cuadro_179.png',\n",
       " './ggDepositoImagenes/Cuadro_180.png',\n",
       " './ggDepositoImagenes/Cuadro_181.png',\n",
       " './ggDepositoImagenes/Cuadro_182.png',\n",
       " './ggDepositoImagenes/Cuadro_183.png',\n",
       " './ggDepositoImagenes/Cuadro_184.png',\n",
       " './ggDepositoImagenes/Cuadro_185.png',\n",
       " './ggDepositoImagenes/Cuadro_186.png',\n",
       " './ggDepositoImagenes/Cuadro_187.png',\n",
       " './ggDepositoImagenes/Cuadro_188.png',\n",
       " './ggDepositoImagenes/Cuadro_189.png',\n",
       " './ggDepositoImagenes/Cuadro_190.png',\n",
       " './ggDepositoImagenes/Cuadro_191.png',\n",
       " './ggDepositoImagenes/Cuadro_192.png',\n",
       " './ggDepositoImagenes/Cuadro_193.png',\n",
       " './ggDepositoImagenes/Cuadro_194.png',\n",
       " './ggDepositoImagenes/Cuadro_195.png',\n",
       " './ggDepositoImagenes/Cuadro_196.png',\n",
       " './ggDepositoImagenes/Cuadro_197.png',\n",
       " './ggDepositoImagenes/Cuadro_198.png',\n",
       " './ggDepositoImagenes/Cuadro_199.png',\n",
       " './ggDepositoImagenes/Cuadro_200.png',\n",
       " './ggDepositoImagenes/Cuadro_201.png',\n",
       " './ggDepositoImagenes/Cuadro_202.png',\n",
       " './ggDepositoImagenes/Cuadro_203.png',\n",
       " './ggDepositoImagenes/Cuadro_204.png',\n",
       " './ggDepositoImagenes/Cuadro_205.png',\n",
       " './ggDepositoImagenes/Cuadro_206.png',\n",
       " './ggDepositoImagenes/Cuadro_207.png',\n",
       " './ggDepositoImagenes/Cuadro_208.png',\n",
       " './ggDepositoImagenes/Cuadro_209.png',\n",
       " './ggDepositoImagenes/Cuadro_210.png',\n",
       " './ggDepositoImagenes/Cuadro_211.png',\n",
       " './ggDepositoImagenes/Cuadro_212.png',\n",
       " './ggDepositoImagenes/Cuadro_213.png',\n",
       " './ggDepositoImagenes/Cuadro_214.png',\n",
       " './ggDepositoImagenes/Cuadro_215.png',\n",
       " './ggDepositoImagenes/Cuadro_216.png',\n",
       " './ggDepositoImagenes/Cuadro_217.png',\n",
       " './ggDepositoImagenes/Cuadro_218.png',\n",
       " './ggDepositoImagenes/Cuadro_219.png',\n",
       " './ggDepositoImagenes/Cuadro_220.png',\n",
       " './ggDepositoImagenes/Cuadro_221.png',\n",
       " './ggDepositoImagenes/Cuadro_222.png',\n",
       " './ggDepositoImagenes/Cuadro_223.png',\n",
       " './ggDepositoImagenes/Cuadro_224.png',\n",
       " './ggDepositoImagenes/Cuadro_225.png',\n",
       " './ggDepositoImagenes/Cuadro_226.png',\n",
       " './ggDepositoImagenes/Cuadro_227.png',\n",
       " './ggDepositoImagenes/Cuadro_228.png',\n",
       " './ggDepositoImagenes/Cuadro_229.png',\n",
       " './ggDepositoImagenes/Cuadro_230.png']"
      ]
     },
     "execution_count": 13,
     "metadata": {},
     "output_type": "execute_result"
    }
   ],
   "source": [
    "ggCuadros"
   ]
  },
  {
   "cell_type": "markdown",
   "metadata": {},
   "source": [
    "Con ``len`` calculamos el número de cuandros que tenemos en **ggCuadros** y lo mostramos"
   ]
  },
  {
   "cell_type": "code",
   "execution_count": 14,
   "metadata": {},
   "outputs": [],
   "source": [
    "NumCuadrosEnVideo = len(ggCuadros)"
   ]
  },
  {
   "cell_type": "code",
   "execution_count": 15,
   "metadata": {},
   "outputs": [],
   "source": [
    "ConjuntoCuadrosVideo = []\n",
    "\n",
    "\n",
    "for key in range(0 , NumCuadrosEnVideo):\n",
    "    image = cv2.imread(ggCuadros[key])\n",
    "    image = cv2.cvtColor(image, cv2.COLOR_BGR2RGB)\n",
    "    ConjuntoCuadrosVideo.append(image)"
   ]
  },
  {
   "cell_type": "code",
   "execution_count": 16,
   "metadata": {},
   "outputs": [
    {
     "data": {
      "image/png": "[encoded data removed]",
      "text/plain": [
       "<Figure size 432x288 with 1 Axes>"
      ]
     },
     "metadata": {
      "needs_background": "light"
     },
     "output_type": "display_data"
    }
   ],
   "source": [
    "# Imagen original\n",
    "plt.imshow(ConjuntoCuadrosVideo[0], cmap='gray') \n",
    "plt.axis('off')\n",
    "plt.title('Primer imagen');\n",
    "plt.tight_layout()"
   ]
  },
  {
   "cell_type": "markdown",
   "metadata": {},
   "source": [
    "### Creamos estructura de las carpetas"
   ]
  },
  {
   "cell_type": "markdown",
   "metadata": {},
   "source": [
    "No es recomendable borrar tus datos, pero en este caso se borran las imágenes para no tener cruce entre el análisis de un video y otro  \n",
    "Si existe la carpeta la borramos"
   ]
  },
  {
   "cell_type": "code",
   "execution_count": 25,
   "metadata": {},
   "outputs": [],
   "source": [
    "if path.exists(ggDirectorioDestino):\n",
    "    rmtree(ggDirectorioDestino)"
   ]
  },
  {
   "cell_type": "markdown",
   "metadata": {},
   "source": [
    "Si no existe la carpeta la crea "
   ]
  },
  {
   "cell_type": "code",
   "execution_count": 26,
   "metadata": {},
   "outputs": [],
   "source": [
    "try:\n",
    "    os.stat(ggDirectorioDestino)\n",
    "except:\n",
    "    os.mkdir(ggDirectorioDestino)"
   ]
  },
  {
   "cell_type": "code",
   "execution_count": 19,
   "metadata": {},
   "outputs": [
    {
     "name": "stdout",
     "output_type": "stream",
     "text": [
      "/home/saxsa/Documentos/face_pro_2/Proyecto\n",
      "total 0\n"
     ]
    }
   ],
   "source": [
    "%%bash\n",
    "\n",
    "pwd\n",
    "\n",
    "ls -ltr ./ggDepositoImagenesCaras"
   ]
  },
  {
   "cell_type": "code",
   "execution_count": 20,
   "metadata": {},
   "outputs": [],
   "source": [
    "cascade_dir = \"./haarcascade_frontalface_default.xml\"\n",
    "face_cascade = cv2.CascadeClassifier(cascade_dir)"
   ]
  },
  {
   "cell_type": "markdown",
   "metadata": {},
   "source": [
    "### Almacenamiento de cada cuadro con una buena toma de rostro en un archivo gráfico\n",
    "---"
   ]
  },
  {
   "cell_type": "code",
   "execution_count": 21,
   "metadata": {},
   "outputs": [],
   "source": [
    "for key in range(0, len(ConjuntoCuadrosVideo)):\n",
    "\n",
    "    img = ConjuntoCuadrosVideo[key] \n",
    "    gray = cv2.cvtColor(img, cv2.COLOR_BGR2GRAY) \n",
    "    \n",
    "    \n",
    "    face = face_cascade.detectMultiScale(\n",
    "        gray,\n",
    "        scaleFactor=1.755,\n",
    "        minNeighbors=8,\n",
    "        minSize=(30, 30)\n",
    "    )     \n",
    "    \n",
    "    if len(face) == 1:\n",
    "        cv2.imwrite(BaseNombreArchivosCuadros + str(key) + ExtensionArchivosCuadros,ConjuntoCuadrosVideo[key] )"
   ]
  },
  {
   "cell_type": "code",
   "execution_count": 22,
   "metadata": {},
   "outputs": [
    {
     "name": "stdout",
     "output_type": "stream",
     "text": [
      "/home/saxsa/Documentos/face_pro_2/Proyecto\n",
      "Total de archivos de los cuadros del video\n",
      "231\n"
     ]
    }
   ],
   "source": [
    "%%bash\n",
    "\n",
    "pwd\n",
    "\n",
    "echo 'Total de archivos de los cuadros del video'\n",
    "\n",
    "ls  ./ggDepositoImagenes/ | wc -l "
   ]
  },
  {
   "cell_type": "code",
   "execution_count": 23,
   "metadata": {},
   "outputs": [
    {
     "name": "stdout",
     "output_type": "stream",
     "text": [
      "/home/saxsa/Documentos/face_pro_2/Proyecto\n",
      "Total de archivos de los cuadros del video con buena toma de un rostro\n",
      "57\n"
     ]
    }
   ],
   "source": [
    "%%bash\n",
    "\n",
    "pwd\n",
    "\n",
    "echo 'Total de archivos de los cuadros del video con buena toma de un rostro'\n",
    "\n",
    "ls  ./ggDepositoImagenesCaras/ | wc -l "
   ]
  },
  {
   "cell_type": "code",
   "execution_count": 24,
   "metadata": {},
   "outputs": [
    {
     "name": "stdout",
     "output_type": "stream",
     "text": [
      "/home/saxsa/Documentos/face_pro_2/Proyecto\n",
      "total 31620\n",
      "-rw-rw-r--. 1 saxsa saxsa 536829 jul 30 21:16 Cuadro_7.png\n",
      "-rw-rw-r--. 1 saxsa saxsa 545959 jul 30 21:16 Cuadro_10.png\n",
      "-rw-rw-r--. 1 saxsa saxsa 551185 jul 30 21:16 Cuadro_11.png\n",
      "-rw-rw-r--. 1 saxsa saxsa 558635 jul 30 21:16 Cuadro_12.png\n",
      "-rw-rw-r--. 1 saxsa saxsa 562622 jul 30 21:16 Cuadro_13.png\n",
      "-rw-rw-r--. 1 saxsa saxsa 566812 jul 30 21:16 Cuadro_14.png\n",
      "-rw-rw-r--. 1 saxsa saxsa 571105 jul 30 21:16 Cuadro_15.png\n",
      "-rw-rw-r--. 1 saxsa saxsa 570211 jul 30 21:16 Cuadro_16.png\n",
      "-rw-rw-r--. 1 saxsa saxsa 568407 jul 30 21:16 Cuadro_18.png\n",
      "-rw-rw-r--. 1 saxsa saxsa 572042 jul 30 21:16 Cuadro_27.png\n",
      "-rw-rw-r--. 1 saxsa saxsa 577111 jul 30 21:16 Cuadro_28.png\n",
      "-rw-rw-r--. 1 saxsa saxsa 523043 jul 30 21:16 Cuadro_30.png\n",
      "-rw-rw-r--. 1 saxsa saxsa 542616 jul 30 21:16 Cuadro_31.png\n",
      "-rw-rw-r--. 1 saxsa saxsa 550935 jul 30 21:16 Cuadro_32.png\n",
      "-rw-rw-r--. 1 saxsa saxsa 555029 jul 30 21:16 Cuadro_33.png\n",
      "-rw-rw-r--. 1 saxsa saxsa 560326 jul 30 21:16 Cuadro_34.png\n",
      "-rw-rw-r--. 1 saxsa saxsa 548498 jul 30 21:16 Cuadro_35.png\n",
      "-rw-rw-r--. 1 saxsa saxsa 564918 jul 30 21:16 Cuadro_38.png\n",
      "-rw-rw-r--. 1 saxsa saxsa 559517 jul 30 21:16 Cuadro_39.png\n",
      "-rw-rw-r--. 1 saxsa saxsa 567116 jul 30 21:16 Cuadro_43.png\n",
      "-rw-rw-r--. 1 saxsa saxsa 565379 jul 30 21:16 Cuadro_44.png\n",
      "-rw-rw-r--. 1 saxsa saxsa 567997 jul 30 21:16 Cuadro_45.png\n",
      "-rw-rw-r--. 1 saxsa saxsa 571427 jul 30 21:16 Cuadro_47.png\n",
      "-rw-rw-r--. 1 saxsa saxsa 567308 jul 30 21:16 Cuadro_49.png\n",
      "-rw-rw-r--. 1 saxsa saxsa 566785 jul 30 21:16 Cuadro_59.png\n",
      "-rw-rw-r--. 1 saxsa saxsa 540613 jul 30 21:16 Cuadro_63.png\n",
      "-rw-rw-r--. 1 saxsa saxsa 548538 jul 30 21:16 Cuadro_64.png\n",
      "-rw-rw-r--. 1 saxsa saxsa 557351 jul 30 21:16 Cuadro_65.png\n",
      "-rw-rw-r--. 1 saxsa saxsa 575417 jul 30 21:16 Cuadro_81.png\n",
      "-rw-rw-r--. 1 saxsa saxsa 579790 jul 30 21:16 Cuadro_109.png\n",
      "-rw-rw-r--. 1 saxsa saxsa 581017 jul 30 21:16 Cuadro_110.png\n",
      "-rw-rw-r--. 1 saxsa saxsa 583670 jul 30 21:16 Cuadro_111.png\n",
      "-rw-rw-r--. 1 saxsa saxsa 580316 jul 30 21:16 Cuadro_112.png\n",
      "-rw-rw-r--. 1 saxsa saxsa 581240 jul 30 21:16 Cuadro_113.png\n",
      "-rw-rw-r--. 1 saxsa saxsa 580610 jul 30 21:16 Cuadro_114.png\n",
      "-rw-rw-r--. 1 saxsa saxsa 580158 jul 30 21:16 Cuadro_116.png\n",
      "-rw-rw-r--. 1 saxsa saxsa 566491 jul 30 21:16 Cuadro_130.png\n",
      "-rw-rw-r--. 1 saxsa saxsa 568347 jul 30 21:16 Cuadro_131.png\n",
      "-rw-rw-r--. 1 saxsa saxsa 579326 jul 30 21:16 Cuadro_132.png\n",
      "-rw-rw-r--. 1 saxsa saxsa 573408 jul 30 21:16 Cuadro_133.png\n",
      "-rw-rw-r--. 1 saxsa saxsa 576994 jul 30 21:16 Cuadro_136.png\n",
      "-rw-rw-r--. 1 saxsa saxsa 578599 jul 30 21:16 Cuadro_137.png\n",
      "-rw-rw-r--. 1 saxsa saxsa 583159 jul 30 21:16 Cuadro_138.png\n",
      "-rw-rw-r--. 1 saxsa saxsa 580832 jul 30 21:16 Cuadro_139.png\n",
      "-rw-rw-r--. 1 saxsa saxsa 580798 jul 30 21:16 Cuadro_141.png\n",
      "-rw-rw-r--. 1 saxsa saxsa 581342 jul 30 21:16 Cuadro_142.png\n",
      "-rw-rw-r--. 1 saxsa saxsa 556274 jul 30 21:16 Cuadro_159.png\n",
      "-rw-rw-r--. 1 saxsa saxsa 553836 jul 30 21:16 Cuadro_165.png\n",
      "-rw-rw-r--. 1 saxsa saxsa 574858 jul 30 21:16 Cuadro_179.png\n",
      "-rw-rw-r--. 1 saxsa saxsa 568840 jul 30 21:16 Cuadro_186.png\n",
      "-rw-rw-r--. 1 saxsa saxsa 569203 jul 30 21:16 Cuadro_187.png\n",
      "-rw-rw-r--. 1 saxsa saxsa 562504 jul 30 21:16 Cuadro_189.png\n",
      "-rw-rw-r--. 1 saxsa saxsa 582224 jul 30 21:16 Cuadro_209.png\n",
      "-rw-rw-r--. 1 saxsa saxsa 549123 jul 30 21:16 Cuadro_212.png\n",
      "-rw-rw-r--. 1 saxsa saxsa 563405 jul 30 21:16 Cuadro_228.png\n",
      "-rw-rw-r--. 1 saxsa saxsa 571920 jul 30 21:16 Cuadro_229.png\n",
      "-rw-rw-r--. 1 saxsa saxsa 575277 jul 30 21:16 Cuadro_230.png\n"
     ]
    }
   ],
   "source": [
    "%%bash\n",
    "\n",
    "pwd\n",
    "\n",
    "ls -ltr ./ggDepositoImagenesCaras/ "
   ]
  },
  {
   "cell_type": "markdown",
   "metadata": {},
   "source": [
    "---\n",
    "## Si te sirvio, <font color='brown'>COMPARTE!</font> \n",
    "\n",
    "- Adios"
   ]
  }
 ],
 "metadata": {
  "kernelspec": {
   "display_name": "Python 3",
   "language": "python",
   "name": "python3"
  },
  "language_info": {
   "codemirror_mode": {
    "name": "ipython",
    "version": 3
   },
   "file_extension": ".py",
   "mimetype": "text/x-python",
   "name": "python",
   "nbconvert_exporter": "python",
   "pygments_lexer": "ipython3",
   "version": "3.7.7"
  }
 },
 "nbformat": 4,
 "nbformat_minor": 2
}
